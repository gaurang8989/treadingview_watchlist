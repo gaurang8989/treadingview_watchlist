{
 "cells": [
  {
   "cell_type": "markdown",
   "metadata": {},
   "source": [
    "# Data Scraping of TreadingView stocks watchlist Using webdriver"
   ]
  },
  {
   "cell_type": "code",
   "execution_count": 1,
   "metadata": {},
   "outputs": [],
   "source": [
    "import pandas as pd\n",
    "import numpy as np\n",
    "import datetime\n",
    "import time\n",
    "import pickle\n",
    "import csv\n",
    "from selenium import webdriver"
   ]
  },
  {
   "cell_type": "code",
   "execution_count": 2,
   "metadata": {},
   "outputs": [],
   "source": [
    "## Treading View Site Credentials\n",
    "cred = pd.read_csv('tredingview_cred.csv')\n",
    "username,password = cred.iloc[0][0], cred.iloc[0][1]"
   ]
  },
  {
   "cell_type": "code",
   "execution_count": 3,
   "metadata": {},
   "outputs": [],
   "source": [
    "# Chrome Driver \n",
    "driver = webdriver.Chrome(\"chromedriver.exe\")"
   ]
  },
  {
   "cell_type": "code",
   "execution_count": 4,
   "metadata": {},
   "outputs": [],
   "source": [
    "driver.get(\"https://in.tradingview.com/\")"
   ]
  },
  {
   "cell_type": "code",
   "execution_count": 7,
   "metadata": {},
   "outputs": [],
   "source": [
    "time.sleep(2)\n",
    "driver.find_element_by_xpath(\"/html/body/div[2]/div[3]/div/div[4]/span[2]/a\").click()"
   ]
  },
  {
   "cell_type": "code",
   "execution_count": 8,
   "metadata": {},
   "outputs": [],
   "source": [
    "time.sleep(2)\n",
    "driver.find_element_by_xpath('//*[@id=\"overlap-manager-root\"]/div/div[2]/div/div/div/div/div/div/div[1]/div[4]/div/span').click()"
   ]
  },
  {
   "cell_type": "code",
   "execution_count": 9,
   "metadata": {},
   "outputs": [],
   "source": [
    "driver.find_element_by_name(\"username\").send_keys(username)"
   ]
  },
  {
   "cell_type": "code",
   "execution_count": 10,
   "metadata": {},
   "outputs": [],
   "source": [
    "driver.find_element_by_name(\"password\").send_keys(password)"
   ]
  },
  {
   "cell_type": "code",
   "execution_count": 11,
   "metadata": {},
   "outputs": [],
   "source": [
    "time.sleep(2)\n",
    "driver.find_element_by_xpath('/html/body/div[11]/div/div[2]/div/div/div/div/div/div/form/div[5]/div[2]/button').click()"
   ]
  },
  {
   "cell_type": "code",
   "execution_count": 12,
   "metadata": {},
   "outputs": [],
   "source": [
    "## Login Done "
   ]
  },
  {
   "cell_type": "code",
   "execution_count": 13,
   "metadata": {},
   "outputs": [],
   "source": [
    "### For click on watchlist\n",
    "# time.sleep(4)\n",
    "# driver.find_element_by_xpath(\"/html/body[1]/div[1]/div[1]/div[2]/div[1]/div[1]/div[1]/div[1]/div[1]/span[1]\").click()"
   ]
  },
  {
   "cell_type": "code",
   "execution_count": 14,
   "metadata": {},
   "outputs": [],
   "source": [
    "time.sleep(20)"
   ]
  },
  {
   "cell_type": "code",
   "execution_count": 15,
   "metadata": {},
   "outputs": [
    {
     "data": {
      "text/plain": [
       "'Watchlist\\nSymbol\\nLast\\nChg\\nChg%\\nSTOCKS\\nBANKNIFTY1!\\n32617.55\\n−328.15\\n−1.00%\\nNIFTY1!\\n14889.40\\n−35.00\\n−0.23%\\nBAJFINANCE\\n4872.30\\n−157.20\\n−3.13%\\nRELIANCE1!\\n1991.95\\n−24.30\\n−1.21%\\nRELIANCE\\n1982.05\\n−23.30\\n−1.16%\\nINFY1!\\n1448.10\\n3.40\\n0.24%\\nICICIBANK\\n566.20\\n−10.50\\n−1.82%\\nAXISBANK\\n668.20\\n−13.40\\n−1.97%\\nHDFCBANK\\n1421.75\\n−11.05\\n−0.77%\\nUSDINR\\n74.7600\\n0.1990\\n0.27%\\nUSDJPY\\n109.822\\n0.574\\n0.53%\\nEURUSD\\n1.18797\\n−0.00329\\n−0.28%\\nGBPUSD\\n1.37329\\n0.00001\\n0.00%\\nXRPUSD\\n0.99625\\n−0.05936\\n−5.62%\\nLTCUSD\\n226.84\\n0.57\\n0.25%\\nETHUSD\\n2079.23\\n−1.77\\n−0.09%\\nBTCUSD\\n58623.08\\n526.48\\n0.91%'"
      ]
     },
     "execution_count": 15,
     "metadata": {},
     "output_type": "execute_result"
    }
   ],
   "source": [
    "## Now, It's time for OUR Actual Data\n",
    "price_data = driver.find_element_by_xpath('/html/body/div[1]/div/div[1]/div[1]/div[1]/div[1]').text\n",
    "price_data"
   ]
  },
  {
   "cell_type": "code",
   "execution_count": 16,
   "metadata": {},
   "outputs": [
    {
     "data": {
      "text/plain": [
       "'\\nBANKNIFTY1!\\n32617.55\\n−328.15\\n−1.00%\\nNIFTY1!\\n14889.40\\n−35.00\\n−0.23%\\nBAJFINANCE\\n4872.30\\n−157.20\\n−3.13%\\nRELIANCE1!\\n1991.95\\n−24.30\\n−1.21%\\nRELIANCE\\n1982.05\\n−23.30\\n−1.16%\\nINFY1!\\n1448.10\\n3.40\\n0.24%\\nICICIBANK\\n566.20\\n−10.50\\n−1.82%\\nAXISBANK\\n668.20\\n−13.40\\n−1.97%\\nHDFCBANK\\n1421.75\\n−11.05\\n−0.77%\\nUSDINR\\n74.7600\\n0.1990\\n0.27%\\nUSDJPY\\n109.822\\n0.574\\n0.53%\\nEURUSD\\n1.18797\\n−0.00329\\n−0.28%\\nGBPUSD\\n1.37329\\n0.00001\\n0.00%\\nXRPUSD\\n0.99625\\n−0.05936\\n−5.62%\\nLTCUSD\\n226.84\\n0.57\\n0.25%\\nETHUSD\\n2079.23\\n−1.77\\n−0.09%\\nBTCUSD\\n58623.08\\n526.48\\n0.91%'"
      ]
     },
     "execution_count": 16,
     "metadata": {},
     "output_type": "execute_result"
    }
   ],
   "source": [
    "# Data Cleansing part\n",
    "y = price_data.split('STOCKS')\n",
    "y.pop(0)\n",
    "y[0]"
   ]
  },
  {
   "cell_type": "code",
   "execution_count": 17,
   "metadata": {},
   "outputs": [
    {
     "data": {
      "text/plain": [
       "['\\nBANKNIFTY1!\\n32617.55\\n−328.15\\n−1.00',\n",
       " '\\nNIFTY1!\\n14889.40\\n−35.00\\n−0.23',\n",
       " '\\nBAJFINANCE\\n4872.30\\n−157.20\\n−3.13',\n",
       " '\\nRELIANCE1!\\n1991.95\\n−24.30\\n−1.21',\n",
       " '\\nRELIANCE\\n1982.05\\n−23.30\\n−1.16',\n",
       " '\\nINFY1!\\n1448.10\\n3.40\\n0.24',\n",
       " '\\nICICIBANK\\n566.20\\n−10.50\\n−1.82',\n",
       " '\\nAXISBANK\\n668.20\\n−13.40\\n−1.97',\n",
       " '\\nHDFCBANK\\n1421.75\\n−11.05\\n−0.77',\n",
       " '\\nUSDINR\\n74.7600\\n0.1990\\n0.27',\n",
       " '\\nUSDJPY\\n109.822\\n0.574\\n0.53',\n",
       " '\\nEURUSD\\n1.18797\\n−0.00329\\n−0.28',\n",
       " '\\nGBPUSD\\n1.37329\\n0.00001\\n0.00',\n",
       " '\\nXRPUSD\\n0.99625\\n−0.05936\\n−5.62',\n",
       " '\\nLTCUSD\\n226.84\\n0.57\\n0.25',\n",
       " '\\nETHUSD\\n2079.23\\n−1.77\\n−0.09',\n",
       " '\\nBTCUSD\\n58623.08\\n526.48\\n0.91',\n",
       " '']"
      ]
     },
     "execution_count": 17,
     "metadata": {},
     "output_type": "execute_result"
    }
   ],
   "source": [
    "spli = y[0].split('%')\n",
    "spli"
   ]
  },
  {
   "cell_type": "code",
   "execution_count": 18,
   "metadata": {},
   "outputs": [],
   "source": [
    "# Create DataFrame of Stocks Ticker Data to Store in file\n",
    "y = spli\n",
    "y = pd.DataFrame(y)\n",
    "y.columns = 'all'.split()\n",
    "y.drop([(len(y)-1)],axis=0,inplace=True)\n",
    "y.reset_index(inplace=True,drop=True)\n",
    "y['Stock'] = y['all'].apply(lambda y:y.split('\\n')[1])\n",
    "y['LastPrice'] = y['all'].apply(lambda y:y.split('\\n')[2])\n",
    "y['Chg'] = y['all'].apply(lambda y:y.split('\\n')[3])\n",
    "y['Chg%'] = y['all'].apply(lambda y:y.split('\\n')[4])\n",
    "y['Datetime'] = datetime.datetime.now().strftime('%Y-%m-%d %H:%M:%S')\n",
    "y.drop('all'.split(),axis=1,inplace=True)\n",
    "Stock = y['Stock'].to_list()\n",
    "Stock\n",
    "\n",
    "try:    \n",
    "    with open('final_TreadingView.csv', 'w',encoding='utf-8') as f:\n",
    "        writer = csv.writer(f)\n",
    "        writer.writerow(Stock)\n",
    "except IOError:\n",
    "    print(\"I/O error\")"
   ]
  },
  {
   "cell_type": "code",
   "execution_count": 19,
   "metadata": {},
   "outputs": [
    {
     "data": {
      "text/plain": [
       "['BANKNIFTY1!',\n",
       " 'NIFTY1!',\n",
       " 'BAJFINANCE',\n",
       " 'RELIANCE1!',\n",
       " 'RELIANCE',\n",
       " 'INFY1!',\n",
       " 'ICICIBANK',\n",
       " 'AXISBANK',\n",
       " 'HDFCBANK',\n",
       " 'USDINR',\n",
       " 'USDJPY',\n",
       " 'EURUSD',\n",
       " 'GBPUSD',\n",
       " 'XRPUSD',\n",
       " 'LTCUSD',\n",
       " 'ETHUSD',\n",
       " 'BTCUSD']"
      ]
     },
     "execution_count": 19,
     "metadata": {},
     "output_type": "execute_result"
    }
   ],
   "source": [
    "Stock"
   ]
  },
  {
   "cell_type": "code",
   "execution_count": 20,
   "metadata": {},
   "outputs": [
    {
     "name": "stdout",
     "output_type": "stream",
     "text": [
      "sleep done\n",
      "[{'Datetime': '2021-04-09 19:18:52', 'Stock': 'BANKNIFTY1!', 'LastPrice': '32617.55', 'Chg': '−328.15', 'Chg%': '−1.00'}, {'Datetime': '2021-04-09 19:18:52', 'Stock': 'NIFTY1!', 'LastPrice': '14889.40', 'Chg': '−35.00', 'Chg%': '−0.23'}, {'Datetime': '2021-04-09 19:18:52', 'Stock': 'BAJFINANCE', 'LastPrice': '4872.30', 'Chg': '−157.20', 'Chg%': '−3.13'}, {'Datetime': '2021-04-09 19:18:52', 'Stock': 'RELIANCE1!', 'LastPrice': '1991.95', 'Chg': '−24.30', 'Chg%': '−1.21'}, {'Datetime': '2021-04-09 19:18:52', 'Stock': 'RELIANCE', 'LastPrice': '1982.05', 'Chg': '−23.30', 'Chg%': '−1.16'}, {'Datetime': '2021-04-09 19:18:52', 'Stock': 'INFY1!', 'LastPrice': '1448.10', 'Chg': '3.40', 'Chg%': '0.24'}, {'Datetime': '2021-04-09 19:18:52', 'Stock': 'ICICIBANK', 'LastPrice': '566.20', 'Chg': '−10.50', 'Chg%': '−1.82'}, {'Datetime': '2021-04-09 19:18:52', 'Stock': 'AXISBANK', 'LastPrice': '668.20', 'Chg': '−13.40', 'Chg%': '−1.97'}, {'Datetime': '2021-04-09 19:18:52', 'Stock': 'HDFCBANK', 'LastPrice': '1421.75', 'Chg': '−11.05', 'Chg%': '−0.77'}, {'Datetime': '2021-04-09 19:18:52', 'Stock': 'USDINR', 'LastPrice': '74.7600', 'Chg': '0.1990', 'Chg%': '0.27'}, {'Datetime': '2021-04-09 19:18:52', 'Stock': 'USDJPY', 'LastPrice': '109.822', 'Chg': '0.574', 'Chg%': '0.53'}, {'Datetime': '2021-04-09 19:18:52', 'Stock': 'EURUSD', 'LastPrice': '1.18797', 'Chg': '−0.00329', 'Chg%': '−0.28'}, {'Datetime': '2021-04-09 19:18:52', 'Stock': 'GBPUSD', 'LastPrice': '1.37329', 'Chg': '0.00001', 'Chg%': '0.00'}, {'Datetime': '2021-04-09 19:18:52', 'Stock': 'XRPUSD', 'LastPrice': '0.99625', 'Chg': '−0.05936', 'Chg%': '−5.62'}, {'Datetime': '2021-04-09 19:18:52', 'Stock': 'LTCUSD', 'LastPrice': '226.84', 'Chg': '0.57', 'Chg%': '0.25'}, {'Datetime': '2021-04-09 19:18:52', 'Stock': 'ETHUSD', 'LastPrice': '2079.23', 'Chg': '−1.77', 'Chg%': '−0.09'}, {'Datetime': '2021-04-09 19:18:52', 'Stock': 'BTCUSD', 'LastPrice': '58623.08', 'Chg': '526.48', 'Chg%': '0.91'}]\n"
     ]
    }
   ],
   "source": [
    "### Till Now, OUR Data Is ready to File\n",
    "csv_columns = ['Datetime','Stock','LastPrice','Chg','Chg%']\n",
    "dic_list = []\n",
    "for t in Stock:\n",
    "    \n",
    "    z = {'Datetime':    (y[y['Stock'] == t]['Datetime'].values[0]),\n",
    "         'Stock':       (y[y['Stock'] == t]['Stock'].values[0]),\n",
    "         'LastPrice':   (y[y['Stock'] == t]['LastPrice'].values[0]),\n",
    "         'Chg':         (y[y['Stock'] == t]['Chg'].values[0]),\n",
    "         'Chg%':        (y[y['Stock'] == t]['Chg%'].values[0]),\n",
    "        }\n",
    "    dic_list.append(z)\n",
    "    \n",
    "    \n",
    "    \n",
    "time.sleep(10)\n",
    "print('sleep done')\n",
    "\n",
    "try:\n",
    "    with open(\"final_TreadingView.csv\", 'w', encoding='utf-8', newline='') as f:\n",
    "        writer = csv.DictWriter(f, fieldnames=csv_columns)\n",
    "        writer.writeheader()\n",
    "        for data in dic_list:\n",
    "            writer.writerow(data)\n",
    "except IOError:\n",
    "    print(\"I/O error\")\n",
    "    \n",
    "\n",
    "print(dic_list)"
   ]
  },
  {
   "cell_type": "code",
   "execution_count": 21,
   "metadata": {},
   "outputs": [
    {
     "name": "stdout",
     "output_type": "stream",
     "text": [
      "               Datetime        Stock    LastPrice       Chg   Chg%\n",
      "0   2021-04-09 19:18:52  BANKNIFTY1!  32617.55000   −328.15  −1.00\n",
      "1   2021-04-09 19:18:52      NIFTY1!  14889.40000    −35.00  −0.23\n",
      "2   2021-04-09 19:18:52   BAJFINANCE   4872.30000   −157.20  −3.13\n",
      "3   2021-04-09 19:18:52   RELIANCE1!   1991.95000    −24.30  −1.21\n",
      "4   2021-04-09 19:18:52     RELIANCE   1982.05000    −23.30  −1.16\n",
      "5   2021-04-09 19:18:52       INFY1!   1448.10000      3.40   0.24\n",
      "6   2021-04-09 19:18:52    ICICIBANK    566.20000    −10.50  −1.82\n",
      "7   2021-04-09 19:18:52     AXISBANK    668.20000    −13.40  −1.97\n",
      "8   2021-04-09 19:18:52     HDFCBANK   1421.75000    −11.05  −0.77\n",
      "9   2021-04-09 19:18:52       USDINR     74.76000    0.1990   0.27\n",
      "10  2021-04-09 19:18:52       USDJPY    109.82200     0.574   0.53\n",
      "11  2021-04-09 19:18:52       EURUSD      1.18797  −0.00329  −0.28\n",
      "12  2021-04-09 19:18:52       GBPUSD      1.37329   0.00001   0.00\n",
      "13  2021-04-09 19:18:52       XRPUSD      0.99625  −0.05936  −5.62\n",
      "14  2021-04-09 19:18:52       LTCUSD    226.84000      0.57   0.25\n",
      "15  2021-04-09 19:18:52       ETHUSD   2079.23000     −1.77  −0.09\n",
      "16  2021-04-09 19:18:52       BTCUSD  58623.08000    526.48   0.91\n"
     ]
    }
   ],
   "source": [
    "df = pd.read_csv('final_TreadingView.csv')\n",
    "print(df)"
   ]
  },
  {
   "cell_type": "code",
   "execution_count": 22,
   "metadata": {},
   "outputs": [],
   "source": [
    "## Generate Excel file\n",
    "csv_list = pd.read_csv('final_TreadingView.csv')\n",
    "\n",
    "TreadingView_sheet = pd.ExcelWriter('TreadingView_sheet.xlsx')\n",
    "csv_list.to_excel(TreadingView_sheet, index=False)\n",
    "TreadingView_sheet.save()\n",
    "\n",
    "## Excel Sheet Is Ready! ('!')"
   ]
  },
  {
   "cell_type": "code",
   "execution_count": null,
   "metadata": {},
   "outputs": [],
   "source": []
  }
 ],
 "metadata": {
  "kernelspec": {
   "display_name": "Python 3",
   "language": "python",
   "name": "python3"
  },
  "language_info": {
   "codemirror_mode": {
    "name": "ipython",
    "version": 3
   },
   "file_extension": ".py",
   "mimetype": "text/x-python",
   "name": "python",
   "nbconvert_exporter": "python",
   "pygments_lexer": "ipython3",
   "version": "3.8.5"
  }
 },
 "nbformat": 4,
 "nbformat_minor": 4
}
